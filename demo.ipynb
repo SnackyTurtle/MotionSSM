{
 "cells": [
  {
   "cell_type": "markdown",
   "id": "5693d406-b2cb-46f1-905a-e413f3e78acc",
   "metadata": {},
   "source": [
    "# MotionSSM"
   ]
  },
  {
   "cell_type": "markdown",
   "id": "ed8116ef-7bc4-4658-8884-2ccac41b3928",
   "metadata": {},
   "source": [
    "## 1 Create Datasets"
   ]
  },
  {
   "cell_type": "markdown",
   "id": "6675e118-2b43-404e-8f0c-2e562ace5152",
   "metadata": {},
   "source": [
    "### 1.1 Download Data"
   ]
  },
  {
   "cell_type": "code",
   "execution_count": 32,
   "id": "f308136d-0e19-450b-ab51-c2cc0a59b34d",
   "metadata": {
    "scrolled": true
   },
   "outputs": [
    {
     "data": {
      "application/vnd.jupyter.widget-view+json": {
       "model_id": "f2c8c8e9cd1643e3871191447dfeadab",
       "version_major": 2,
       "version_minor": 0
      },
      "text/plain": [
       "train1.zip:   0%|          | 0.00/3.61G [00:00<?, ?B/s]"
      ]
     },
     "metadata": {},
     "output_type": "display_data"
    }
   ],
   "source": [
    "import os\n",
    "from huggingface_hub import hf_hub_download\n",
    "\n",
    "\n",
    "## here download, unzip the data\n",
    "if os.path.exists('./DanceTrack/train'):\n",
    "    print('Data Already Downloaded!')\n",
    "else:\n",
    "    repo_id = 'noahcao/dancetrack'\n",
    "    filename = 'train1.zip'\n",
    "    save_dir = './DanceTrack'\n",
    "    hf_hub_download(repo_id ,filename, repo_type='dataset',local_dir=save_dir)\n",
    "    \n",
    "    filename = 'train2.zip'\n",
    "    hf_hub_download(repo_id ,filename, repo_type='dataset',local_dir=save_dir)\n",
    "\n",
    "## here download, unzip the data\n",
    "if os.path.exists('./DanceTrack/val'):\n",
    "    print('Data Already Downloaded!')\n",
    "else:\n",
    "    repo_id = 'noahcao/dancetrack'\n",
    "    filename = 'val.zip'\n",
    "    save_dir = './DanceTrack'\n",
    "    \n",
    "    hf_hub_download(repo_id ,filename, repo_type='dataset',local_dir=save_dir)"
   ]
  },
  {
   "cell_type": "markdown",
   "id": "9f32aeb5-91b8-4df2-bcda-978d4e8b600a",
   "metadata": {},
   "source": [
    "### 1.2 Unzip Data "
   ]
  },
  {
   "cell_type": "code",
   "execution_count": 33,
   "id": "61361b25-e87c-462e-b8d1-1e76f867aa75",
   "metadata": {},
   "outputs": [
    {
     "name": "stdout",
     "output_type": "stream",
     "text": [
      "Extracted data and removed zip files.\n"
     ]
    }
   ],
   "source": [
    "import zipfile\n",
    "zip_paths = ['train1.zip', 'train2.zip', 'val.zip']\n",
    "tgt_paths = ['train','train','val']\n",
    "\n",
    "for i in range(len(zip_paths)):\n",
    "    with zipfile.ZipFile('./DanceTrack/' + zip_paths[i], 'r') as zip_ref:\n",
    "        zip_ref.extractall('./DanceTrack/' + tgt_paths[i])\n",
    "    os.remove('./DanceTrack/' + zip_paths[i])\n",
    "print('Extracted Data And Removed Zip Files.')"
   ]
  },
  {
   "cell_type": "markdown",
   "id": "44389b02-0a52-4ef3-8173-1fa7e6733ecd",
   "metadata": {},
   "source": [
    "### 1.3 Restructure Directory"
   ]
  },
  {
   "cell_type": "code",
   "execution_count": 36,
   "id": "9326b943-4a78-4a0d-9799-cb751e9d0adb",
   "metadata": {},
   "outputs": [
    {
     "ename": "FileNotFoundError",
     "evalue": "[Errno 2] No such file or directory: './DanceTrack/train/train1'",
     "output_type": "error",
     "traceback": [
      "\u001b[0;31m---------------------------------------------------------------------------\u001b[0m",
      "\u001b[0;31mFileNotFoundError\u001b[0m                         Traceback (most recent call last)",
      "Cell \u001b[0;32mIn[36], line 11\u001b[0m\n\u001b[1;32m      9\u001b[0m     \u001b[38;5;28;01mfor\u001b[39;00m src_file \u001b[38;5;129;01min\u001b[39;00m src_path\u001b[38;5;241m.\u001b[39mglob(\u001b[38;5;124m'\u001b[39m\u001b[38;5;124m*dancetrack*\u001b[39m\u001b[38;5;124m'\u001b[39m):\n\u001b[1;32m     10\u001b[0m         shutil\u001b[38;5;241m.\u001b[39mmove(src_file, trg_path)\n\u001b[0;32m---> 11\u001b[0m     \u001b[43mshutil\u001b[49m\u001b[38;5;241;43m.\u001b[39;49m\u001b[43mrmtree\u001b[49m\u001b[43m(\u001b[49m\u001b[38;5;124;43m'\u001b[39;49m\u001b[38;5;124;43m./DanceTrack/\u001b[39;49m\u001b[38;5;124;43m'\u001b[39;49m\u001b[43m \u001b[49m\u001b[38;5;241;43m+\u001b[39;49m\u001b[43m \u001b[49m\u001b[43mpath\u001b[49m\u001b[43m)\u001b[49m\n\u001b[1;32m     12\u001b[0m \u001b[38;5;28mprint\u001b[39m(\u001b[38;5;124m'\u001b[39m\u001b[38;5;124mRestructured Directory Successfully.\u001b[39m\u001b[38;5;124m'\u001b[39m)\n",
      "File \u001b[0;32m~/miniconda3/envs/MotionSSM/lib/python3.9/shutil.py:724\u001b[0m, in \u001b[0;36mrmtree\u001b[0;34m(path, ignore_errors, onerror)\u001b[0m\n\u001b[1;32m    722\u001b[0m     orig_st \u001b[38;5;241m=\u001b[39m os\u001b[38;5;241m.\u001b[39mlstat(path)\n\u001b[1;32m    723\u001b[0m \u001b[38;5;28;01mexcept\u001b[39;00m \u001b[38;5;167;01mException\u001b[39;00m:\n\u001b[0;32m--> 724\u001b[0m     \u001b[43monerror\u001b[49m\u001b[43m(\u001b[49m\u001b[43mos\u001b[49m\u001b[38;5;241;43m.\u001b[39;49m\u001b[43mlstat\u001b[49m\u001b[43m,\u001b[49m\u001b[43m \u001b[49m\u001b[43mpath\u001b[49m\u001b[43m,\u001b[49m\u001b[43m \u001b[49m\u001b[43msys\u001b[49m\u001b[38;5;241;43m.\u001b[39;49m\u001b[43mexc_info\u001b[49m\u001b[43m(\u001b[49m\u001b[43m)\u001b[49m\u001b[43m)\u001b[49m\n\u001b[1;32m    725\u001b[0m     \u001b[38;5;28;01mreturn\u001b[39;00m\n\u001b[1;32m    726\u001b[0m \u001b[38;5;28;01mtry\u001b[39;00m:\n",
      "File \u001b[0;32m~/miniconda3/envs/MotionSSM/lib/python3.9/shutil.py:722\u001b[0m, in \u001b[0;36mrmtree\u001b[0;34m(path, ignore_errors, onerror)\u001b[0m\n\u001b[1;32m    719\u001b[0m \u001b[38;5;66;03m# Note: To guard against symlink races, we use the standard\u001b[39;00m\n\u001b[1;32m    720\u001b[0m \u001b[38;5;66;03m# lstat()/open()/fstat() trick.\u001b[39;00m\n\u001b[1;32m    721\u001b[0m \u001b[38;5;28;01mtry\u001b[39;00m:\n\u001b[0;32m--> 722\u001b[0m     orig_st \u001b[38;5;241m=\u001b[39m \u001b[43mos\u001b[49m\u001b[38;5;241;43m.\u001b[39;49m\u001b[43mlstat\u001b[49m\u001b[43m(\u001b[49m\u001b[43mpath\u001b[49m\u001b[43m)\u001b[49m\n\u001b[1;32m    723\u001b[0m \u001b[38;5;28;01mexcept\u001b[39;00m \u001b[38;5;167;01mException\u001b[39;00m:\n\u001b[1;32m    724\u001b[0m     onerror(os\u001b[38;5;241m.\u001b[39mlstat, path, sys\u001b[38;5;241m.\u001b[39mexc_info())\n",
      "\u001b[0;31mFileNotFoundError\u001b[0m: [Errno 2] No such file or directory: './DanceTrack/train/train1'"
     ]
    }
   ],
   "source": [
    "from pathlib import Path\n",
    "import shutil\n",
    "\n",
    "paths = ['train/train1','train/train2', 'val/val']\n",
    "for path in paths:\n",
    "    src_path = Path('./DanceTrack').joinpath(path)\n",
    "    tgt_path = src_path.parent\n",
    "\n",
    "    for src_file in src_path.glob('*dancetrack*'):\n",
    "        shutil.move(src_file, tgt_path)\n",
    "    shutil.rmtree('./DanceTrack/' + path)\n",
    "print('Restructured Directory Successfully.')"
   ]
  },
  {
   "cell_type": "markdown",
   "id": "b6dbc61b-19c8-4b07-a76a-415e4ccf6832",
   "metadata": {},
   "source": [
    "### 1.4 Download Seqmap Files"
   ]
  },
  {
   "cell_type": "code",
   "execution_count": 37,
   "id": "b7a87128-1cb9-4c4e-98a7-933e7ec0d7bc",
   "metadata": {},
   "outputs": [],
   "source": [
    "from urllib.request import urlretrieve\n",
    "url = 'https://raw.githubusercontent.com/DanceTrack/DanceTrack/refs/heads/main/dancetrack/'\n",
    "seqmap_files = ['train_seqmap.txt', 'val_seqmap.txt']\n",
    "\n",
    "for file in seqmap_files:\n",
    "    urlretrieve(url + file, './DanceTrack/' + file)\n"
   ]
  },
  {
   "cell_type": "markdown",
   "id": "7b02c081-ecf7-438a-ad75-5d1f246b8bee",
   "metadata": {},
   "source": [
    "### 1.5 Preprocess Train Data\n",
    "\n",
    "We are changing the ground-truth format from '[bb_left, bb_top, bb_width, bb_height]' to '[bb_center_x, bb_center_y, bb_width, bb_height]'. Moreover, the ground-truth data is split into seperate sequences for each tracked object."
   ]
  },
  {
   "cell_type": "code",
   "execution_count": 39,
   "id": "d478b624-1023-40fe-9b6c-59f3da60033d",
   "metadata": {},
   "outputs": [
    {
     "name": "stdout",
     "output_type": "stream",
     "text": [
      "dancetrack0008\n",
      "dancetrack0015\n",
      "dancetrack0029\n",
      "dancetrack0032\n",
      "dancetrack0001\n",
      "dancetrack0072\n",
      "dancetrack0052\n",
      "dancetrack0012\n",
      "dancetrack0080\n",
      "dancetrack0062\n",
      "dancetrack0099\n",
      "dancetrack0051\n",
      "dancetrack0033\n",
      "dancetrack0027\n",
      "dancetrack0061\n",
      "dancetrack0082\n",
      "dancetrack0044\n",
      "dancetrack0086\n",
      "dancetrack0069\n",
      "dancetrack0020\n",
      "dancetrack0096\n",
      "dancetrack0075\n",
      "dancetrack0002\n",
      "dancetrack0006\n",
      "dancetrack0045\n",
      "dancetrack0039\n",
      "dancetrack0053\n",
      "dancetrack0074\n",
      "dancetrack0023\n",
      "dancetrack0024\n",
      "dancetrack0098\n",
      "dancetrack0049\n",
      "dancetrack0037\n",
      "dancetrack0057\n",
      "dancetrack0066\n",
      "dancetrack0083\n",
      "dancetrack0087\n",
      "dancetrack0016\n",
      "dancetrack0068\n",
      "dancetrack0055\n"
     ]
    }
   ],
   "source": [
    "from preprocess_data import preprocess_train\n",
    "\n",
    "seq_root = './DanceTrack'\n",
    "label_root = './DanceTrack/train_seq'\n",
    "preprocess_train(seq_root, label_root)"
   ]
  },
  {
   "cell_type": "markdown",
   "id": "fbee13c3-3e3a-454e-976e-d5792dd92d97",
   "metadata": {},
   "source": [
    "### 1.5 Download Validation Yolo-X Detections"
   ]
  },
  {
   "cell_type": "code",
   "execution_count": 57,
   "id": "0c252579-7ab8-4266-8f96-e696a9289a13",
   "metadata": {},
   "outputs": [
    {
     "name": "stdout",
     "output_type": "stream",
     "text": [
      "DanceTrack/Detections/DanceTrack/detections_yolox_x/val/dancetrack0030\n",
      "DanceTrack/Detections/DanceTrack/detections_yolox_x/val/dancetrack0058\n",
      "DanceTrack/Detections/DanceTrack/detections_yolox_x/val/dancetrack0065\n",
      "DanceTrack/Detections/DanceTrack/detections_yolox_x/val/dancetrack0073\n",
      "DanceTrack/Detections/DanceTrack/detections_yolox_x/val/dancetrack0094\n",
      "DanceTrack/Detections/DanceTrack/detections_yolox_x/val/dancetrack0081\n",
      "DanceTrack/Detections/DanceTrack/detections_yolox_x/val/dancetrack0077\n",
      "DanceTrack/Detections/DanceTrack/detections_yolox_x/val/dancetrack0014\n",
      "DanceTrack/Detections/DanceTrack/detections_yolox_x/val/dancetrack0097\n",
      "DanceTrack/Detections/DanceTrack/detections_yolox_x/val/dancetrack0034\n",
      "DanceTrack/Detections/DanceTrack/detections_yolox_x/val/dancetrack0043\n",
      "DanceTrack/Detections/DanceTrack/detections_yolox_x/val/dancetrack0047\n",
      "DanceTrack/Detections/DanceTrack/detections_yolox_x/val/dancetrack0007\n",
      "DanceTrack/Detections/DanceTrack/detections_yolox_x/val/dancetrack0018\n",
      "DanceTrack/Detections/DanceTrack/detections_yolox_x/val/dancetrack0025\n",
      "DanceTrack/Detections/DanceTrack/detections_yolox_x/val/dancetrack0004\n",
      "DanceTrack/Detections/DanceTrack/detections_yolox_x/val/dancetrack0010\n",
      "DanceTrack/Detections/DanceTrack/detections_yolox_x/val/dancetrack0019\n",
      "DanceTrack/Detections/DanceTrack/detections_yolox_x/val/dancetrack0035\n",
      "DanceTrack/Detections/DanceTrack/detections_yolox_x/val/dancetrack0090\n",
      "DanceTrack/Detections/DanceTrack/detections_yolox_x/val/dancetrack0026\n",
      "DanceTrack/Detections/DanceTrack/detections_yolox_x/val/dancetrack0063\n",
      "DanceTrack/Detections/DanceTrack/detections_yolox_x/val/dancetrack0079\n",
      "DanceTrack/Detections/DanceTrack/detections_yolox_x/val/dancetrack0005\n",
      "DanceTrack/Detections/DanceTrack/detections_yolox_x/val/dancetrack0041\n"
     ]
    }
   ],
   "source": [
    "if os.path.exists('./DanceTrack/val_dets'):\n",
    "    print('Data Already Downloaded!')\n",
    "else:\n",
    "    urlretrieve('https://github.com/Kroery/DiffMOT/releases/download/v1.1/Detections.zip', './DanceTrack/Detections.zip')\n",
    "    with zipfile.ZipFile('./DanceTrack/Detections.zip', 'r') as zip_ref:\n",
    "        zip_ref.extractall('./DanceTrack/Detections')\n",
    "    os.remove('./DanceTrack/Detections.zip')\n",
    "    \n",
    "    src_path = Path('./DanceTrack/Detections/DanceTrack/detections_yolox_x/val')\n",
    "    os.mkdir('./DanceTrack/val_dets')\n",
    "    tgt_path = './DanceTrack/val_dets'\n",
    "    for src_file in src_path.glob('*dancetrack*'):\n",
    "        shutil.move(src_file, tgt_path)\n"
   ]
  },
  {
   "cell_type": "markdown",
   "id": "a5fee3ad-9b87-4fbc-b28d-c1093b5212de",
   "metadata": {},
   "source": [
    "## 1.6 Build Dataset"
   ]
  },
  {
   "cell_type": "code",
   "execution_count": 1,
   "id": "eec53f4a-ccb7-404a-b51d-0fa12c796629",
   "metadata": {},
   "outputs": [
    {
     "name": "stdout",
     "output_type": "stream",
     "text": [
      "{'gt': array([ 0.      , 11.      ,  0.254297,  0.646528,  0.075781,  0.281944,\n",
      "        1.      ], dtype=float32), 'gt_box': array([0.254297, 0.646528, 0.075781, 0.281944], dtype=float32), 'seq_features': tensor([[ 0.2570,  0.6500,  0.0797,  0.2750,  0.0027,  0.0035,  0.0039, -0.0069],\n",
      "        [ 0.2633,  0.6493,  0.0891,  0.2736,  0.0062, -0.0007,  0.0094, -0.0014],\n",
      "        [ 0.2672,  0.6521,  0.0953,  0.2681,  0.0039,  0.0028,  0.0062, -0.0056],\n",
      "        [ 0.2688,  0.6535,  0.1016,  0.2625,  0.0016,  0.0014,  0.0063, -0.0056],\n",
      "        [ 0.2660,  0.6549,  0.0977,  0.2597, -0.0027,  0.0014, -0.0039, -0.0028]])}\n"
     ]
    },
    {
     "name": "stderr",
     "output_type": "stream",
     "text": [
      "/home/fredo/PycharmProjects/MotionSSM/dataset.py:70: UserWarning: Creating a tensor from a list of numpy.ndarrays is extremely slow. Please consider converting the list to a single numpy.ndarray with numpy.array() before converting to a tensor. (Triggered internally at /pytorch/torch/csrc/utils/tensor_new.cpp:254.)\n",
      "  seq_features = torch.concatenate([torch.tensor(seq_boxes[1:]), torch.tensor(delta_boxes)], dim=1)\n"
     ]
    }
   ],
   "source": [
    "from dataset import MotionDataset\n",
    "\n",
    "seq_len = 5\n",
    "data_dir = './DanceTrack/train_seq'\n",
    "dataset_train = MotionDataset(seq_len, data_dir)\n",
    "print(dataset_train.__getitem__(4))"
   ]
  },
  {
   "cell_type": "code",
   "execution_count": null,
   "id": "2967614e-f2e4-4081-86ce-c8a528c270a4",
   "metadata": {},
   "outputs": [],
   "source": []
  },
  {
   "cell_type": "markdown",
   "id": "a8812b6f-b964-44af-8f93-189e2252c63e",
   "metadata": {},
   "source": [
    "## 2 Build Model"
   ]
  },
  {
   "cell_type": "code",
   "execution_count": 2,
   "id": "23628b9b-0ee6-44b3-8c0e-0e26f3f8fa4d",
   "metadata": {},
   "outputs": [
    {
     "name": "stdout",
     "output_type": "stream",
     "text": [
      "torch.Size([1, 5, 8])\n"
     ]
    },
    {
     "ename": "NameError",
     "evalue": "name 'causal_conv1d_fn' is not defined",
     "output_type": "error",
     "traceback": [
      "\u001b[0;31m---------------------------------------------------------------------------\u001b[0m",
      "\u001b[0;31mNameError\u001b[0m                                 Traceback (most recent call last)",
      "Cell \u001b[0;32mIn[2], line 8\u001b[0m\n\u001b[1;32m      6\u001b[0m x[\u001b[38;5;124m'\u001b[39m\u001b[38;5;124mseq_features\u001b[39m\u001b[38;5;124m'\u001b[39m] \u001b[38;5;241m=\u001b[39m x[\u001b[38;5;124m'\u001b[39m\u001b[38;5;124mseq_features\u001b[39m\u001b[38;5;124m'\u001b[39m]\u001b[38;5;241m.\u001b[39munsqueeze(\u001b[38;5;241m0\u001b[39m)\n\u001b[1;32m      7\u001b[0m model\u001b[38;5;241m.\u001b[39mtrain()\n\u001b[0;32m----> 8\u001b[0m \u001b[43mmodel\u001b[49m\u001b[38;5;241;43m.\u001b[39;49m\u001b[43mforward\u001b[49m\u001b[43m(\u001b[49m\u001b[43mx\u001b[49m\u001b[43m)\u001b[49m\n",
      "File \u001b[0;32m~/PycharmProjects/MotionSSM/model/motion_ssm.py:15\u001b[0m, in \u001b[0;36mMotionSSM.forward\u001b[0;34m(self, x)\u001b[0m\n\u001b[1;32m     14\u001b[0m \u001b[38;5;28;01mdef\u001b[39;00m\u001b[38;5;250m \u001b[39m\u001b[38;5;21mforward\u001b[39m(\u001b[38;5;28mself\u001b[39m, x):\n\u001b[0;32m---> 15\u001b[0m     out_enc \u001b[38;5;241m=\u001b[39m \u001b[38;5;28;43mself\u001b[39;49m\u001b[38;5;241;43m.\u001b[39;49m\u001b[43mencoder\u001b[49m\u001b[43m(\u001b[49m\u001b[43mx\u001b[49m\u001b[43m[\u001b[49m\u001b[38;5;124;43m'\u001b[39;49m\u001b[38;5;124;43mseq_features\u001b[39;49m\u001b[38;5;124;43m'\u001b[39;49m\u001b[43m]\u001b[49m\u001b[43m)\u001b[49m\n\u001b[1;32m     16\u001b[0m     bbox_pred, bbox_interm \u001b[38;5;241m=\u001b[39m \u001b[38;5;28mself\u001b[39m\u001b[38;5;241m.\u001b[39mdecoder(x[\u001b[38;5;124m'\u001b[39m\u001b[38;5;124mseq_features\u001b[39m\u001b[38;5;124m'\u001b[39m][:, \u001b[38;5;241m-\u001b[39m\u001b[38;5;241m1\u001b[39m, :\u001b[38;5;241m4\u001b[39m], out_enc)\n\u001b[1;32m     17\u001b[0m     \u001b[38;5;28;01mreturn\u001b[39;00m bbox_pred, bbox_interm\n",
      "File \u001b[0;32m~/miniconda3/envs/MotionSSM/lib/python3.9/site-packages/torch/nn/modules/module.py:1739\u001b[0m, in \u001b[0;36mModule._wrapped_call_impl\u001b[0;34m(self, *args, **kwargs)\u001b[0m\n\u001b[1;32m   1737\u001b[0m     \u001b[38;5;28;01mreturn\u001b[39;00m \u001b[38;5;28mself\u001b[39m\u001b[38;5;241m.\u001b[39m_compiled_call_impl(\u001b[38;5;241m*\u001b[39margs, \u001b[38;5;241m*\u001b[39m\u001b[38;5;241m*\u001b[39mkwargs)  \u001b[38;5;66;03m# type: ignore[misc]\u001b[39;00m\n\u001b[1;32m   1738\u001b[0m \u001b[38;5;28;01melse\u001b[39;00m:\n\u001b[0;32m-> 1739\u001b[0m     \u001b[38;5;28;01mreturn\u001b[39;00m \u001b[38;5;28;43mself\u001b[39;49m\u001b[38;5;241;43m.\u001b[39;49m\u001b[43m_call_impl\u001b[49m\u001b[43m(\u001b[49m\u001b[38;5;241;43m*\u001b[39;49m\u001b[43margs\u001b[49m\u001b[43m,\u001b[49m\u001b[43m \u001b[49m\u001b[38;5;241;43m*\u001b[39;49m\u001b[38;5;241;43m*\u001b[39;49m\u001b[43mkwargs\u001b[49m\u001b[43m)\u001b[49m\n",
      "File \u001b[0;32m~/miniconda3/envs/MotionSSM/lib/python3.9/site-packages/torch/nn/modules/module.py:1750\u001b[0m, in \u001b[0;36mModule._call_impl\u001b[0;34m(self, *args, **kwargs)\u001b[0m\n\u001b[1;32m   1745\u001b[0m \u001b[38;5;66;03m# If we don't have any hooks, we want to skip the rest of the logic in\u001b[39;00m\n\u001b[1;32m   1746\u001b[0m \u001b[38;5;66;03m# this function, and just call forward.\u001b[39;00m\n\u001b[1;32m   1747\u001b[0m \u001b[38;5;28;01mif\u001b[39;00m \u001b[38;5;129;01mnot\u001b[39;00m (\u001b[38;5;28mself\u001b[39m\u001b[38;5;241m.\u001b[39m_backward_hooks \u001b[38;5;129;01mor\u001b[39;00m \u001b[38;5;28mself\u001b[39m\u001b[38;5;241m.\u001b[39m_backward_pre_hooks \u001b[38;5;129;01mor\u001b[39;00m \u001b[38;5;28mself\u001b[39m\u001b[38;5;241m.\u001b[39m_forward_hooks \u001b[38;5;129;01mor\u001b[39;00m \u001b[38;5;28mself\u001b[39m\u001b[38;5;241m.\u001b[39m_forward_pre_hooks\n\u001b[1;32m   1748\u001b[0m         \u001b[38;5;129;01mor\u001b[39;00m _global_backward_pre_hooks \u001b[38;5;129;01mor\u001b[39;00m _global_backward_hooks\n\u001b[1;32m   1749\u001b[0m         \u001b[38;5;129;01mor\u001b[39;00m _global_forward_hooks \u001b[38;5;129;01mor\u001b[39;00m _global_forward_pre_hooks):\n\u001b[0;32m-> 1750\u001b[0m     \u001b[38;5;28;01mreturn\u001b[39;00m \u001b[43mforward_call\u001b[49m\u001b[43m(\u001b[49m\u001b[38;5;241;43m*\u001b[39;49m\u001b[43margs\u001b[49m\u001b[43m,\u001b[49m\u001b[43m \u001b[49m\u001b[38;5;241;43m*\u001b[39;49m\u001b[38;5;241;43m*\u001b[39;49m\u001b[43mkwargs\u001b[49m\u001b[43m)\u001b[49m\n\u001b[1;32m   1752\u001b[0m result \u001b[38;5;241m=\u001b[39m \u001b[38;5;28;01mNone\u001b[39;00m\n\u001b[1;32m   1753\u001b[0m called_always_called_hooks \u001b[38;5;241m=\u001b[39m \u001b[38;5;28mset\u001b[39m()\n",
      "File \u001b[0;32m~/PycharmProjects/MotionSSM/model/mamba_encoder.py:146\u001b[0m, in \u001b[0;36mMambaEncoder.forward\u001b[0;34m(self, input_ids, inference_params)\u001b[0m\n\u001b[1;32m    144\u001b[0m residual \u001b[38;5;241m=\u001b[39m \u001b[38;5;28;01mNone\u001b[39;00m\n\u001b[1;32m    145\u001b[0m \u001b[38;5;28;01mfor\u001b[39;00m layer \u001b[38;5;129;01min\u001b[39;00m \u001b[38;5;28mself\u001b[39m\u001b[38;5;241m.\u001b[39mlayers:\n\u001b[0;32m--> 146\u001b[0m     hidden_states, residual \u001b[38;5;241m=\u001b[39m \u001b[43mlayer\u001b[49m\u001b[43m(\u001b[49m\n\u001b[1;32m    147\u001b[0m \u001b[43m        \u001b[49m\u001b[43mhidden_states\u001b[49m\u001b[43m,\u001b[49m\u001b[43m \u001b[49m\u001b[43mresidual\u001b[49m\u001b[43m,\u001b[49m\u001b[43m \u001b[49m\u001b[43minference_params\u001b[49m\u001b[38;5;241;43m=\u001b[39;49m\u001b[43minference_params\u001b[49m\n\u001b[1;32m    148\u001b[0m \u001b[43m    \u001b[49m\u001b[43m)\u001b[49m\n\u001b[1;32m    149\u001b[0m \u001b[38;5;28;01mif\u001b[39;00m \u001b[38;5;129;01mnot\u001b[39;00m \u001b[38;5;28mself\u001b[39m\u001b[38;5;241m.\u001b[39mfused_add_norm:\n\u001b[1;32m    150\u001b[0m     residual \u001b[38;5;241m=\u001b[39m (hidden_states \u001b[38;5;241m+\u001b[39m residual) \u001b[38;5;28;01mif\u001b[39;00m residual \u001b[38;5;129;01mis\u001b[39;00m \u001b[38;5;129;01mnot\u001b[39;00m \u001b[38;5;28;01mNone\u001b[39;00m \u001b[38;5;28;01melse\u001b[39;00m hidden_states\n",
      "File \u001b[0;32m~/miniconda3/envs/MotionSSM/lib/python3.9/site-packages/torch/nn/modules/module.py:1739\u001b[0m, in \u001b[0;36mModule._wrapped_call_impl\u001b[0;34m(self, *args, **kwargs)\u001b[0m\n\u001b[1;32m   1737\u001b[0m     \u001b[38;5;28;01mreturn\u001b[39;00m \u001b[38;5;28mself\u001b[39m\u001b[38;5;241m.\u001b[39m_compiled_call_impl(\u001b[38;5;241m*\u001b[39margs, \u001b[38;5;241m*\u001b[39m\u001b[38;5;241m*\u001b[39mkwargs)  \u001b[38;5;66;03m# type: ignore[misc]\u001b[39;00m\n\u001b[1;32m   1738\u001b[0m \u001b[38;5;28;01melse\u001b[39;00m:\n\u001b[0;32m-> 1739\u001b[0m     \u001b[38;5;28;01mreturn\u001b[39;00m \u001b[38;5;28;43mself\u001b[39;49m\u001b[38;5;241;43m.\u001b[39;49m\u001b[43m_call_impl\u001b[49m\u001b[43m(\u001b[49m\u001b[38;5;241;43m*\u001b[39;49m\u001b[43margs\u001b[49m\u001b[43m,\u001b[49m\u001b[43m \u001b[49m\u001b[38;5;241;43m*\u001b[39;49m\u001b[38;5;241;43m*\u001b[39;49m\u001b[43mkwargs\u001b[49m\u001b[43m)\u001b[49m\n",
      "File \u001b[0;32m~/miniconda3/envs/MotionSSM/lib/python3.9/site-packages/torch/nn/modules/module.py:1750\u001b[0m, in \u001b[0;36mModule._call_impl\u001b[0;34m(self, *args, **kwargs)\u001b[0m\n\u001b[1;32m   1745\u001b[0m \u001b[38;5;66;03m# If we don't have any hooks, we want to skip the rest of the logic in\u001b[39;00m\n\u001b[1;32m   1746\u001b[0m \u001b[38;5;66;03m# this function, and just call forward.\u001b[39;00m\n\u001b[1;32m   1747\u001b[0m \u001b[38;5;28;01mif\u001b[39;00m \u001b[38;5;129;01mnot\u001b[39;00m (\u001b[38;5;28mself\u001b[39m\u001b[38;5;241m.\u001b[39m_backward_hooks \u001b[38;5;129;01mor\u001b[39;00m \u001b[38;5;28mself\u001b[39m\u001b[38;5;241m.\u001b[39m_backward_pre_hooks \u001b[38;5;129;01mor\u001b[39;00m \u001b[38;5;28mself\u001b[39m\u001b[38;5;241m.\u001b[39m_forward_hooks \u001b[38;5;129;01mor\u001b[39;00m \u001b[38;5;28mself\u001b[39m\u001b[38;5;241m.\u001b[39m_forward_pre_hooks\n\u001b[1;32m   1748\u001b[0m         \u001b[38;5;129;01mor\u001b[39;00m _global_backward_pre_hooks \u001b[38;5;129;01mor\u001b[39;00m _global_backward_hooks\n\u001b[1;32m   1749\u001b[0m         \u001b[38;5;129;01mor\u001b[39;00m _global_forward_hooks \u001b[38;5;129;01mor\u001b[39;00m _global_forward_pre_hooks):\n\u001b[0;32m-> 1750\u001b[0m     \u001b[38;5;28;01mreturn\u001b[39;00m \u001b[43mforward_call\u001b[49m\u001b[43m(\u001b[49m\u001b[38;5;241;43m*\u001b[39;49m\u001b[43margs\u001b[49m\u001b[43m,\u001b[49m\u001b[43m \u001b[49m\u001b[38;5;241;43m*\u001b[39;49m\u001b[38;5;241;43m*\u001b[39;49m\u001b[43mkwargs\u001b[49m\u001b[43m)\u001b[49m\n\u001b[1;32m   1752\u001b[0m result \u001b[38;5;241m=\u001b[39m \u001b[38;5;28;01mNone\u001b[39;00m\n\u001b[1;32m   1753\u001b[0m called_always_called_hooks \u001b[38;5;241m=\u001b[39m \u001b[38;5;28mset\u001b[39m()\n",
      "File \u001b[0;32m~/PycharmProjects/MotionSSM/mamba_cpu/mamba_ssm/modules/mamba_simple.py:280\u001b[0m, in \u001b[0;36mBlock.forward\u001b[0;34m(self, hidden_states, residual, inference_params)\u001b[0m\n\u001b[1;32m    278\u001b[0m \u001b[38;5;28;01mif\u001b[39;00m \u001b[38;5;28mself\u001b[39m\u001b[38;5;241m.\u001b[39mresidual_in_fp32:\n\u001b[1;32m    279\u001b[0m     residual \u001b[38;5;241m=\u001b[39m residual\u001b[38;5;241m.\u001b[39mto(torch\u001b[38;5;241m.\u001b[39mfloat32)\n\u001b[0;32m--> 280\u001b[0m hidden_states \u001b[38;5;241m=\u001b[39m \u001b[38;5;28;43mself\u001b[39;49m\u001b[38;5;241;43m.\u001b[39;49m\u001b[43mmixer\u001b[49m\u001b[43m(\u001b[49m\u001b[43mhidden_states\u001b[49m\u001b[43m,\u001b[49m\u001b[43m \u001b[49m\u001b[43minference_params\u001b[49m\u001b[38;5;241;43m=\u001b[39;49m\u001b[43minference_params\u001b[49m\u001b[43m)\u001b[49m\n\u001b[1;32m    281\u001b[0m \u001b[38;5;28;01mreturn\u001b[39;00m hidden_states, residual\n",
      "File \u001b[0;32m~/miniconda3/envs/MotionSSM/lib/python3.9/site-packages/torch/nn/modules/module.py:1739\u001b[0m, in \u001b[0;36mModule._wrapped_call_impl\u001b[0;34m(self, *args, **kwargs)\u001b[0m\n\u001b[1;32m   1737\u001b[0m     \u001b[38;5;28;01mreturn\u001b[39;00m \u001b[38;5;28mself\u001b[39m\u001b[38;5;241m.\u001b[39m_compiled_call_impl(\u001b[38;5;241m*\u001b[39margs, \u001b[38;5;241m*\u001b[39m\u001b[38;5;241m*\u001b[39mkwargs)  \u001b[38;5;66;03m# type: ignore[misc]\u001b[39;00m\n\u001b[1;32m   1738\u001b[0m \u001b[38;5;28;01melse\u001b[39;00m:\n\u001b[0;32m-> 1739\u001b[0m     \u001b[38;5;28;01mreturn\u001b[39;00m \u001b[38;5;28;43mself\u001b[39;49m\u001b[38;5;241;43m.\u001b[39;49m\u001b[43m_call_impl\u001b[49m\u001b[43m(\u001b[49m\u001b[38;5;241;43m*\u001b[39;49m\u001b[43margs\u001b[49m\u001b[43m,\u001b[49m\u001b[43m \u001b[49m\u001b[38;5;241;43m*\u001b[39;49m\u001b[38;5;241;43m*\u001b[39;49m\u001b[43mkwargs\u001b[49m\u001b[43m)\u001b[49m\n",
      "File \u001b[0;32m~/miniconda3/envs/MotionSSM/lib/python3.9/site-packages/torch/nn/modules/module.py:1750\u001b[0m, in \u001b[0;36mModule._call_impl\u001b[0;34m(self, *args, **kwargs)\u001b[0m\n\u001b[1;32m   1745\u001b[0m \u001b[38;5;66;03m# If we don't have any hooks, we want to skip the rest of the logic in\u001b[39;00m\n\u001b[1;32m   1746\u001b[0m \u001b[38;5;66;03m# this function, and just call forward.\u001b[39;00m\n\u001b[1;32m   1747\u001b[0m \u001b[38;5;28;01mif\u001b[39;00m \u001b[38;5;129;01mnot\u001b[39;00m (\u001b[38;5;28mself\u001b[39m\u001b[38;5;241m.\u001b[39m_backward_hooks \u001b[38;5;129;01mor\u001b[39;00m \u001b[38;5;28mself\u001b[39m\u001b[38;5;241m.\u001b[39m_backward_pre_hooks \u001b[38;5;129;01mor\u001b[39;00m \u001b[38;5;28mself\u001b[39m\u001b[38;5;241m.\u001b[39m_forward_hooks \u001b[38;5;129;01mor\u001b[39;00m \u001b[38;5;28mself\u001b[39m\u001b[38;5;241m.\u001b[39m_forward_pre_hooks\n\u001b[1;32m   1748\u001b[0m         \u001b[38;5;129;01mor\u001b[39;00m _global_backward_pre_hooks \u001b[38;5;129;01mor\u001b[39;00m _global_backward_hooks\n\u001b[1;32m   1749\u001b[0m         \u001b[38;5;129;01mor\u001b[39;00m _global_forward_hooks \u001b[38;5;129;01mor\u001b[39;00m _global_forward_pre_hooks):\n\u001b[0;32m-> 1750\u001b[0m     \u001b[38;5;28;01mreturn\u001b[39;00m \u001b[43mforward_call\u001b[49m\u001b[43m(\u001b[49m\u001b[38;5;241;43m*\u001b[39;49m\u001b[43margs\u001b[49m\u001b[43m,\u001b[49m\u001b[43m \u001b[49m\u001b[38;5;241;43m*\u001b[39;49m\u001b[38;5;241;43m*\u001b[39;49m\u001b[43mkwargs\u001b[49m\u001b[43m)\u001b[49m\n\u001b[1;32m   1752\u001b[0m result \u001b[38;5;241m=\u001b[39m \u001b[38;5;28;01mNone\u001b[39;00m\n\u001b[1;32m   1753\u001b[0m called_always_called_hooks \u001b[38;5;241m=\u001b[39m \u001b[38;5;28mset\u001b[39m()\n",
      "File \u001b[0;32m~/PycharmProjects/MotionSSM/mamba_cpu/mamba_ssm/modules/mamba_simple.py:101\u001b[0m, in \u001b[0;36mMamba.forward\u001b[0;34m(self, hidden_states, inference_params)\u001b[0m\n\u001b[1;32m     99\u001b[0m A \u001b[38;5;241m=\u001b[39m \u001b[38;5;241m-\u001b[39mtorch\u001b[38;5;241m.\u001b[39mexp(\u001b[38;5;28mself\u001b[39m\u001b[38;5;241m.\u001b[39mA_log\u001b[38;5;241m.\u001b[39mfloat())  \u001b[38;5;66;03m# (d_inner, d_state)\u001b[39;00m\n\u001b[1;32m    100\u001b[0m \u001b[38;5;66;03m# In the backward pass we write dx and dz next to each other to avoid torch.cat\u001b[39;00m\n\u001b[0;32m--> 101\u001b[0m \u001b[38;5;28;01mif\u001b[39;00m \u001b[38;5;28mself\u001b[39m\u001b[38;5;241m.\u001b[39muse_fast_path \u001b[38;5;129;01mand\u001b[39;00m \u001b[43mcausal_conv1d_fn\u001b[49m \u001b[38;5;129;01mis\u001b[39;00m \u001b[38;5;129;01mnot\u001b[39;00m \u001b[38;5;28;01mNone\u001b[39;00m \u001b[38;5;129;01mand\u001b[39;00m inference_params \u001b[38;5;129;01mis\u001b[39;00m \u001b[38;5;28;01mNone\u001b[39;00m:  \u001b[38;5;66;03m# Doesn't support outputting the states\u001b[39;00m\n\u001b[1;32m    102\u001b[0m     out \u001b[38;5;241m=\u001b[39m mamba_inner_fn(\n\u001b[1;32m    103\u001b[0m         xz,\n\u001b[1;32m    104\u001b[0m         \u001b[38;5;28mself\u001b[39m\u001b[38;5;241m.\u001b[39mconv1d\u001b[38;5;241m.\u001b[39mweight,\n\u001b[0;32m   (...)\u001b[0m\n\u001b[1;32m    115\u001b[0m         delta_softplus\u001b[38;5;241m=\u001b[39m\u001b[38;5;28;01mTrue\u001b[39;00m,\n\u001b[1;32m    116\u001b[0m     )\n\u001b[1;32m    117\u001b[0m \u001b[38;5;28;01melse\u001b[39;00m:\n",
      "\u001b[0;31mNameError\u001b[0m: name 'causal_conv1d_fn' is not defined"
     ]
    }
   ],
   "source": [
    "from model.motion_ssm import MotionSSM\n",
    "config = ''\n",
    "model = MotionSSM(config)\n",
    "x = dataset_train.__getitem__(4)\n",
    "print(x['seq_features'].unsqueeze(0).shape)\n",
    "x['seq_features'] = x['seq_features'].unsqueeze(0)\n",
    "model.train()\n",
    "model.forward(x)"
   ]
  },
  {
   "cell_type": "markdown",
   "id": "f2b4eae7-7afd-4b09-aade-8792e6376010",
   "metadata": {},
   "source": [
    "## 3 Train Model"
   ]
  },
  {
   "cell_type": "code",
   "execution_count": null,
   "id": "86f5a7c0-dddd-4b96-af1d-7cec2cf1c14a",
   "metadata": {},
   "outputs": [],
   "source": []
  },
  {
   "cell_type": "markdown",
   "id": "aafd70a8-df8d-4164-89c2-e698826c2cc5",
   "metadata": {},
   "source": [
    "## 4 Evaluate Model"
   ]
  },
  {
   "cell_type": "code",
   "execution_count": null,
   "id": "ac7fccde-9598-4173-84d2-00b786992cec",
   "metadata": {},
   "outputs": [],
   "source": []
  },
  {
   "cell_type": "code",
   "execution_count": null,
   "id": "d0c51cda-3025-4a97-95b0-7d3d05833cd5",
   "metadata": {},
   "outputs": [],
   "source": []
  },
  {
   "cell_type": "code",
   "execution_count": null,
   "id": "2cde3d19-6179-4a36-bac9-08a817df421d",
   "metadata": {},
   "outputs": [],
   "source": []
  },
  {
   "cell_type": "code",
   "execution_count": null,
   "id": "20840c8e-6f2f-46cb-a309-f480de6b5adb",
   "metadata": {},
   "outputs": [],
   "source": []
  },
  {
   "cell_type": "code",
   "execution_count": null,
   "id": "ceddf5e2-13e7-4d55-aac9-6db845355f65",
   "metadata": {},
   "outputs": [],
   "source": []
  }
 ],
 "metadata": {
  "kernelspec": {
   "display_name": "Python 3 (ipykernel)",
   "language": "python",
   "name": "python3"
  },
  "language_info": {
   "codemirror_mode": {
    "name": "ipython",
    "version": 3
   },
   "file_extension": ".py",
   "mimetype": "text/x-python",
   "name": "python",
   "nbconvert_exporter": "python",
   "pygments_lexer": "ipython3",
   "version": "3.9.21"
  }
 },
 "nbformat": 4,
 "nbformat_minor": 5
}
